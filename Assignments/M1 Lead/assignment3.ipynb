{
 "cells": [
  {
   "cell_type": "markdown",
   "id": "678b39d7",
   "metadata": {},
   "source": [
    "# Importing Libraries"
   ]
  },
  {
   "cell_type": "code",
   "execution_count": 1,
   "id": "d62cf41f",
   "metadata": {},
   "outputs": [],
   "source": [
    "from tensorflow.keras.models import Sequential\n",
    "from tensorflow.keras.layers import Dense\n",
    "from tensorflow.keras.layers import Convolution2D\n",
    "from tensorflow.keras.layers import MaxPooling2D\n",
    "from tensorflow.keras.layers import Flatten\n",
    "from sklearn.model_selection import train_test_split"
   ]
  },
  {
   "cell_type": "code",
   "execution_count": 2,
   "id": "0954f17a",
   "metadata": {},
   "outputs": [],
   "source": [
    "from tensorflow.keras.preprocessing.image import ImageDataGenerator"
   ]
  },
  {
   "cell_type": "markdown",
   "id": "2e6493a7",
   "metadata": {},
   "source": [
    "# Image Augmentation "
   ]
  },
  {
   "cell_type": "code",
   "execution_count": 3,
   "id": "39048018",
   "metadata": {},
   "outputs": [],
   "source": [
    "train_datagen=ImageDataGenerator(rescale=1./255,shear_range=0.2,zoom_range=0.2,horizontal_flip=True,vertical_flip=True)"
   ]
  },
  {
   "cell_type": "code",
   "execution_count": 4,
   "id": "bfdc49f7",
   "metadata": {},
   "outputs": [],
   "source": [
    "test_datagen=ImageDataGenerator(rescale=1./255)"
   ]
  },
  {
   "cell_type": "code",
   "execution_count": 18,
   "id": "c857253b",
   "metadata": {},
   "outputs": [
    {
     "name": "stdout",
     "output_type": "stream",
     "text": [
      "Found 3451 images belonging to 5 classes.\n"
     ]
    }
   ],
   "source": [
    "x_train = train_datagen.flow_from_directory(r\"C:\\Users\\Karthikeyan\\Downloads\\Flowers-Dataset\\flowers\\train\",target_size=(128,128),batch_size=32,class_mode=\"categorical\")\n"
   ]
  },
  {
   "cell_type": "code",
   "execution_count": 19,
   "id": "918db84f",
   "metadata": {},
   "outputs": [
    {
     "name": "stdout",
     "output_type": "stream",
     "text": [
      "Found 866 images belonging to 5 classes.\n"
     ]
    }
   ],
   "source": [
    "x_test=x_test = test_datagen.flow_from_directory(r\"C:\\Users\\Karthikeyan\\Downloads\\Flowers-Dataset\\flowers\\test\",target_size=(128,128),batch_size=32,class_mode=\"categorical\")"
   ]
  },
  {
   "cell_type": "code",
   "execution_count": 20,
   "id": "560dab88",
   "metadata": {},
   "outputs": [
    {
     "data": {
      "text/plain": [
       "{'daisy': 0, 'dandelion': 1, 'rose': 2, 'sunflower': 3, 'tulip': 4}"
      ]
     },
     "execution_count": 20,
     "metadata": {},
     "output_type": "execute_result"
    }
   ],
   "source": [
    "x_train.class_indices"
   ]
  },
  {
   "cell_type": "markdown",
   "id": "54a6482f",
   "metadata": {},
   "source": [
    "# Creating Model"
   ]
  },
  {
   "cell_type": "code",
   "execution_count": 21,
   "id": "61056592",
   "metadata": {},
   "outputs": [],
   "source": [
    "model = Sequential()"
   ]
  },
  {
   "cell_type": "markdown",
   "id": "91929a3d",
   "metadata": {},
   "source": [
    "# Adding Layers"
   ]
  },
  {
   "cell_type": "code",
   "execution_count": 22,
   "id": "e28c997f",
   "metadata": {},
   "outputs": [],
   "source": [
    "model.add(Convolution2D(32,(3,3),input_shape=(128,128,3),activation='relu'))"
   ]
  },
  {
   "cell_type": "code",
   "execution_count": 23,
   "id": "2ce9e329",
   "metadata": {},
   "outputs": [],
   "source": [
    "model.add(MaxPooling2D(pool_size=(2,2)))"
   ]
  },
  {
   "cell_type": "code",
   "execution_count": 24,
   "id": "161198eb",
   "metadata": {},
   "outputs": [],
   "source": [
    "model.add(Flatten())"
   ]
  },
  {
   "cell_type": "code",
   "execution_count": 31,
   "id": "3de55d90",
   "metadata": {},
   "outputs": [],
   "source": [
    "model.add(Dense(units=200,kernel_initializer=\"random_uniform\",activation=\"relu\"))"
   ]
  },
  {
   "cell_type": "code",
   "execution_count": 32,
   "id": "fae48345",
   "metadata": {},
   "outputs": [],
   "source": [
    "model.add(Dense(units=300,kernel_initializer=\"random_uniform\",activation=\"relu\"))"
   ]
  },
  {
   "cell_type": "code",
   "execution_count": 33,
   "id": "856e5c12",
   "metadata": {},
   "outputs": [],
   "source": [
    "model.add(Dense(units=400,kernel_initializer=\"random_uniform\",activation=\"relu\"))"
   ]
  },
  {
   "cell_type": "code",
   "execution_count": 30,
   "id": "6532f791",
   "metadata": {},
   "outputs": [],
   "source": [
    "model.add(Dense(units=500,kernel_initializer=\"random_uniform\",activation=\"relu\"))"
   ]
  },
  {
   "cell_type": "code",
   "execution_count": 34,
   "id": "1f772fdf",
   "metadata": {},
   "outputs": [],
   "source": [
    "model.add(Dense(units=5,kernel_initializer=\"random_uniform\",activation=\"softmax\"))"
   ]
  },
  {
   "cell_type": "markdown",
   "id": "e3b2e24a",
   "metadata": {},
   "source": [
    "# Compiling Model "
   ]
  },
  {
   "cell_type": "code",
   "execution_count": 35,
   "id": "2bc1da22",
   "metadata": {},
   "outputs": [],
   "source": [
    "model.compile(loss=\"categorical_crossentropy\",optimizer=\"adam\",metrics=[\"accuracy\"])"
   ]
  },
  {
   "cell_type": "markdown",
   "id": "d721dcb3",
   "metadata": {},
   "source": [
    "# Fitting the Model"
   ]
  },
  {
   "cell_type": "code",
   "execution_count": 37,
   "id": "7f554616",
   "metadata": {},
   "outputs": [
    {
     "name": "stderr",
     "output_type": "stream",
     "text": [
      "C:\\Users\\Karthikeyan\\AppData\\Local\\Temp\\ipykernel_14112\\3505885595.py:1: UserWarning: `Model.fit_generator` is deprecated and will be removed in a future version. Please use `Model.fit`, which supports generators.\n",
      "  model.fit_generator(x_train,steps_per_epoch=39,epochs=25,validation_data=x_test,validation_steps=10)\n"
     ]
    },
    {
     "name": "stdout",
     "output_type": "stream",
     "text": [
      "Epoch 1/25\n",
      "39/39 [==============================] - 50s 1s/step - loss: 1.5990 - accuracy: 0.2486 - val_loss: 1.5958 - val_accuracy: 0.2594\n",
      "Epoch 2/25\n",
      "39/39 [==============================] - 36s 914ms/step - loss: 1.5964 - accuracy: 0.2476 - val_loss: 1.6038 - val_accuracy: 0.2219\n",
      "Epoch 3/25\n",
      "39/39 [==============================] - 36s 913ms/step - loss: 1.5932 - accuracy: 0.2500 - val_loss: 1.6053 - val_accuracy: 0.2188\n",
      "Epoch 4/25\n",
      "39/39 [==============================] - 35s 878ms/step - loss: 1.5996 - accuracy: 0.2179 - val_loss: 1.5977 - val_accuracy: 0.2438\n",
      "Epoch 5/25\n",
      "39/39 [==============================] - 39s 993ms/step - loss: 1.5987 - accuracy: 0.2542 - val_loss: 1.6019 - val_accuracy: 0.2156\n",
      "Epoch 6/25\n",
      "39/39 [==============================] - 70s 2s/step - loss: 1.5955 - accuracy: 0.2446 - val_loss: 1.6018 - val_accuracy: 0.2531\n",
      "Epoch 7/25\n",
      "39/39 [==============================] - 43s 1s/step - loss: 1.6017 - accuracy: 0.2420 - val_loss: 1.6017 - val_accuracy: 0.2313\n",
      "Epoch 8/25\n",
      "39/39 [==============================] - 78s 2s/step - loss: 1.5978 - accuracy: 0.2468 - val_loss: 1.6131 - val_accuracy: 0.2219\n",
      "Epoch 9/25\n",
      "39/39 [==============================] - 40s 1s/step - loss: 1.5996 - accuracy: 0.2414 - val_loss: 1.5982 - val_accuracy: 0.2375\n",
      "Epoch 10/25\n",
      "39/39 [==============================] - 71s 2s/step - loss: 1.5980 - accuracy: 0.2324 - val_loss: 1.5958 - val_accuracy: 0.2781\n",
      "Epoch 11/25\n",
      "39/39 [==============================] - 38s 973ms/step - loss: 1.6007 - accuracy: 0.2236 - val_loss: 1.5995 - val_accuracy: 0.2219\n",
      "Epoch 12/25\n",
      "39/39 [==============================] - 76s 2s/step - loss: 1.6020 - accuracy: 0.2444 - val_loss: 1.5980 - val_accuracy: 0.2469\n",
      "Epoch 13/25\n",
      "39/39 [==============================] - 77s 2s/step - loss: 1.6007 - accuracy: 0.2404 - val_loss: 1.5918 - val_accuracy: 0.2594\n",
      "Epoch 14/25\n",
      "39/39 [==============================] - 71s 2s/step - loss: 1.5983 - accuracy: 0.2365 - val_loss: 1.5931 - val_accuracy: 0.2438\n",
      "Epoch 15/25\n",
      "39/39 [==============================] - 34s 862ms/step - loss: 1.6007 - accuracy: 0.2428 - val_loss: 1.6041 - val_accuracy: 0.2406\n",
      "Epoch 16/25\n",
      "39/39 [==============================] - 67s 2s/step - loss: 1.6055 - accuracy: 0.2261 - val_loss: 1.5886 - val_accuracy: 0.2719\n",
      "Epoch 17/25\n",
      "39/39 [==============================] - 74s 2s/step - loss: 1.6003 - accuracy: 0.2364 - val_loss: 1.5860 - val_accuracy: 0.2531\n",
      "Epoch 18/25\n",
      "39/39 [==============================] - 67s 2s/step - loss: 1.5970 - accuracy: 0.2430 - val_loss: 1.6006 - val_accuracy: 0.2469\n",
      "Epoch 19/25\n",
      "39/39 [==============================] - 63s 2s/step - loss: 1.5953 - accuracy: 0.2700 - val_loss: 1.5719 - val_accuracy: 0.3063\n",
      "Epoch 20/25\n",
      "39/39 [==============================] - 32s 815ms/step - loss: 1.6037 - accuracy: 0.2348 - val_loss: 1.5886 - val_accuracy: 0.2875\n",
      "Epoch 21/25\n",
      "39/39 [==============================] - 67s 2s/step - loss: 1.5935 - accuracy: 0.2516 - val_loss: 1.6085 - val_accuracy: 0.2313\n",
      "Epoch 22/25\n",
      "39/39 [==============================] - 70s 2s/step - loss: 1.5959 - accuracy: 0.2500 - val_loss: 1.5986 - val_accuracy: 0.2469\n",
      "Epoch 23/25\n",
      "39/39 [==============================] - 74s 2s/step - loss: 1.5973 - accuracy: 0.2452 - val_loss: 1.5905 - val_accuracy: 0.2875\n",
      "Epoch 24/25\n",
      "39/39 [==============================] - 72s 2s/step - loss: 1.5973 - accuracy: 0.2588 - val_loss: 1.6028 - val_accuracy: 0.2375\n",
      "Epoch 25/25\n",
      "39/39 [==============================] - 92s 2s/step - loss: 1.5974 - accuracy: 0.2476 - val_loss: 1.6074 - val_accuracy: 0.2250\n"
     ]
    },
    {
     "data": {
      "text/plain": [
       "<keras.callbacks.History at 0x22198667d30>"
      ]
     },
     "execution_count": 37,
     "metadata": {},
     "output_type": "execute_result"
    }
   ],
   "source": [
    "model.fit_generator(x_train,steps_per_epoch=39,epochs=25,validation_data=x_test,validation_steps=10)"
   ]
  },
  {
   "cell_type": "markdown",
   "id": "12658528",
   "metadata": {},
   "source": [
    "# Saving the Model"
   ]
  },
  {
   "cell_type": "code",
   "execution_count": 57,
   "id": "d6eea788",
   "metadata": {},
   "outputs": [],
   "source": [
    "model.save(\"flowers.h5\")"
   ]
  },
  {
   "cell_type": "markdown",
   "id": "edbdd72e",
   "metadata": {},
   "source": [
    "# Testing the Model"
   ]
  },
  {
   "cell_type": "code",
   "execution_count": 40,
   "id": "7886e531",
   "metadata": {},
   "outputs": [],
   "source": [
    "from tensorflow.keras.models import load_model\n",
    "from tensorflow.keras.preprocessing import image\n",
    "import numpy as np"
   ]
  },
  {
   "cell_type": "code",
   "execution_count": 41,
   "id": "33a67469",
   "metadata": {},
   "outputs": [],
   "source": [
    "model=load_model(\"flowers.h5\")"
   ]
  },
  {
   "cell_type": "code",
   "execution_count": 49,
   "id": "9bf310bd",
   "metadata": {},
   "outputs": [
    {
     "data": {
      "image/png": "[encoded data removed]",
      "text/plain": [
       "<PIL.Image.Image image mode=RGB size=128x128 at 0x221A4678430>"
      ]
     },
     "execution_count": 49,
     "metadata": {},
     "output_type": "execute_result"
    }
   ],
   "source": [
    "img=image.load_img(r\"C:\\Users\\Karthikeyan\\Downloads\\Flowers-Dataset\\flowers\\flower.jpg\",target_size=(128,128))\n",
    "img"
   ]
  },
  {
   "cell_type": "code",
   "execution_count": 50,
   "id": "6f1453ca",
   "metadata": {},
   "outputs": [
    {
     "data": {
      "text/plain": [
       "array([[[  2.,   2.,   0.],\n",
       "        [  2.,   2.,   0.],\n",
       "        [  2.,   2.,   0.],\n",
       "        ...,\n",
       "        [  2.,   1.,   0.],\n",
       "        [  2.,   1.,   0.],\n",
       "        [  2.,   1.,   0.]],\n",
       "\n",
       "       [[  4.,   3.,   1.],\n",
       "        [  4.,   3.,   1.],\n",
       "        [  4.,   3.,   1.],\n",
       "        ...,\n",
       "        [  2.,   1.,   0.],\n",
       "        [  2.,   1.,   0.],\n",
       "        [  2.,   1.,   0.]],\n",
       "\n",
       "       [[  5.,   1.,   0.],\n",
       "        [  6.,   2.,   1.],\n",
       "        [  6.,   2.,   1.],\n",
       "        ...,\n",
       "        [  2.,   1.,   0.],\n",
       "        [  2.,   1.,   0.],\n",
       "        [  2.,   1.,   0.]],\n",
       "\n",
       "       ...,\n",
       "\n",
       "       [[ 62., 109.,   3.],\n",
       "        [ 72., 125.,   0.],\n",
       "        [ 94., 147.,   3.],\n",
       "        ...,\n",
       "        [105., 160.,   6.],\n",
       "        [ 91., 147.,   0.],\n",
       "        [116., 176.,   0.]],\n",
       "\n",
       "       [[ 88., 141.,   0.],\n",
       "        [ 94., 149.,   0.],\n",
       "        [109., 165.,   0.],\n",
       "        ...,\n",
       "        [110., 167.,   0.],\n",
       "        [107., 163.,   0.],\n",
       "        [134., 189.,   8.]],\n",
       "\n",
       "       [[ 79., 125.,   0.],\n",
       "        [107., 161.,  24.],\n",
       "        [115., 170.,  14.],\n",
       "        ...,\n",
       "        [117., 178.,   0.],\n",
       "        [122., 182.,   0.],\n",
       "        [148., 202.,   2.]]], dtype=float32)"
      ]
     },
     "execution_count": 50,
     "metadata": {},
     "output_type": "execute_result"
    }
   ],
   "source": [
    "x=image.img_to_array(img)\n",
    "x"
   ]
  },
  {
   "cell_type": "code",
   "execution_count": 51,
   "id": "7bae6243",
   "metadata": {},
   "outputs": [
    {
     "data": {
      "text/plain": [
       "(128, 128, 3)"
      ]
     },
     "execution_count": 51,
     "metadata": {},
     "output_type": "execute_result"
    }
   ],
   "source": [
    "x.shape"
   ]
  },
  {
   "cell_type": "code",
   "execution_count": 52,
   "id": "818d096c",
   "metadata": {},
   "outputs": [
    {
     "data": {
      "text/plain": [
       "(1, 128, 128, 3)"
      ]
     },
     "execution_count": 52,
     "metadata": {},
     "output_type": "execute_result"
    }
   ],
   "source": [
    "x = np.expand_dims(x,axis=0)\n",
    "x.shape"
   ]
  },
  {
   "cell_type": "code",
   "execution_count": 53,
   "id": "e94a4614",
   "metadata": {},
   "outputs": [
    {
     "name": "stdout",
     "output_type": "stream",
     "text": [
      "1/1 [==============================] - 5s 5s/step\n"
     ]
    },
    {
     "data": {
      "text/plain": [
       "array([[0.17055237, 0.2510295 , 0.18373464, 0.17030248, 0.22438103]],\n",
       "      dtype=float32)"
      ]
     },
     "execution_count": 53,
     "metadata": {},
     "output_type": "execute_result"
    }
   ],
   "source": [
    "pred_prob=model.predict(x)\n",
    "pred_prob"
   ]
  },
  {
   "cell_type": "code",
   "execution_count": 55,
   "id": "16ba8ac1",
   "metadata": {},
   "outputs": [
    {
     "data": {
      "text/plain": [
       "1"
      ]
     },
     "execution_count": 55,
     "metadata": {},
     "output_type": "execute_result"
    }
   ],
   "source": [
    "class_name=[\"daisy\",\"dandelion\",\"rose\",\"sunflower\",\"tulip\"]\n",
    "pred_id=pred_prob.argmax(axis=1)[0]\n",
    "pred_id"
   ]
  },
  {
   "cell_type": "code",
   "execution_count": 56,
   "id": "6a006ba8",
   "metadata": {},
   "outputs": [
    {
     "name": "stdout",
     "output_type": "stream",
     "text": [
      "Predicted Flower is  dandelion\n"
     ]
    }
   ],
   "source": [
    "print(\"Predicted Flower is \",str(class_name[pred_id]))\n"
   ]
  }
 ],
 "metadata": {
  "kernelspec": {
   "display_name": "Python 3 (ipykernel)",
   "language": "python",
   "name": "python3"
  },
  "language_info": {
   "codemirror_mode": {
    "name": "ipython",
    "version": 3
   },
   "file_extension": ".py",
   "mimetype": "text/x-python",
   "name": "python",
   "nbconvert_exporter": "python",
   "pygments_lexer": "ipython3",
   "version": "3.9.12"
  }
 },
 "nbformat": 4,
 "nbformat_minor": 5
}
